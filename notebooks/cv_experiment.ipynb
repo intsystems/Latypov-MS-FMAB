{
 "cells": [
  {
   "cell_type": "markdown",
   "metadata": {},
   "source": [
    "Experiment with computer vision model"
   ]
  },
  {
   "cell_type": "code",
   "execution_count": 1,
   "metadata": {},
   "outputs": [],
   "source": [
    "%load_ext autoreload\n",
    "%autoreload 2\n",
    "from dataclasses import MISSING, asdict, dataclass, field, fields\n",
    "from typing import List\n",
    "\n",
    "from multiobjective_opt.neural_net.models.cifar_parametrized import ResNet\n",
    "\n",
    "\n",
    "@dataclass\n",
    "class ResNetParams:\n",
    "    num_blocks: List = field(\n",
    "        default_factory=lambda: [2, 2, 2, 2]\n",
    "    )  # Количество блоков в каждом слое\n",
    "    num_filters: int = 32  # Количество фильтров в начальном слое\n",
    "    use_batchnorm: bool = False  # Использовать BatchNorm\n",
    "    use_dropout: bool = False  # Использовать Dropout\n",
    "    dropout_prob: float = 0.5  # Вероятность дропаут"
   ]
  },
  {
   "cell_type": "code",
   "execution_count": null,
   "metadata": {},
   "outputs": [
    {
     "name": "stdout",
     "output_type": "stream",
     "text": [
      "2792810\n"
     ]
    }
   ],
   "source": [
    "a = ResNetParams()\n",
    "model = ResNet(**asdict(a))\n",
    "pytorch_total_params = sum(p.numel() for p in model.parameters())\n",
    "print(pytorch_total_params)"
   ]
  },
  {
   "cell_type": "code",
   "execution_count": 3,
   "metadata": {},
   "outputs": [
    {
     "name": "stdout",
     "output_type": "stream",
     "text": [
      "20454090\n",
      "20601546\n",
      "19576202\n",
      "20474442\n",
      "20615242\n",
      "19587722\n",
      "20474442\n",
      "20615242\n",
      "19587722\n"
     ]
    }
   ],
   "source": [
    "models = []\n",
    "model_params = []\n",
    "a = ResNetParams(num_blocks=[8, 8, 8, 2], num_filters=64)\n",
    "model = ResNet(**asdict(a))\n",
    "pytorch_total_params = sum(p.numel() for p in model.parameters())\n",
    "print(pytorch_total_params)\n",
    "models.append(model)\n",
    "model_params.append(asdict(a))\n",
    "\n",
    "a = ResNetParams(\n",
    "    num_blocks=[2, 2, 2, 4],\n",
    "    num_filters=64,\n",
    ")\n",
    "model = ResNet(**asdict(a))\n",
    "pytorch_total_params = sum(p.numel() for p in model.parameters())\n",
    "print(pytorch_total_params)\n",
    "models.append(model)\n",
    "model_params.append(asdict(a))\n",
    "\n",
    "a = ResNetParams(\n",
    "    num_blocks=[1, 1, 1, 1],\n",
    "    num_filters=128,\n",
    ")\n",
    "model = ResNet(**asdict(a))\n",
    "pytorch_total_params = sum(p.numel() for p in model.parameters())\n",
    "print(pytorch_total_params)\n",
    "models.append(model)\n",
    "model_params.append(asdict(a))\n",
    "\n",
    "# with batch_norm\n",
    "a = ResNetParams(num_blocks=[8, 8, 8, 2], num_filters=64, use_batchnorm=True)\n",
    "model = ResNet(**asdict(a))\n",
    "pytorch_total_params = sum(p.numel() for p in model.parameters())\n",
    "print(pytorch_total_params)\n",
    "models.append(model)\n",
    "model_params.append(asdict(a))\n",
    "\n",
    "a = ResNetParams(num_blocks=[2, 2, 2, 4], num_filters=64, use_batchnorm=True)\n",
    "model = ResNet(**asdict(a))\n",
    "pytorch_total_params = sum(p.numel() for p in model.parameters())\n",
    "print(pytorch_total_params)\n",
    "models.append(model)\n",
    "model_params.append(asdict(a))\n",
    "\n",
    "a = ResNetParams(num_blocks=[1, 1, 1, 1], num_filters=128, use_batchnorm=True)\n",
    "model = ResNet(**asdict(a))\n",
    "pytorch_total_params = sum(p.numel() for p in model.parameters())\n",
    "print(pytorch_total_params)\n",
    "models.append(model)\n",
    "model_params.append(asdict(a))\n",
    "\n",
    "# + dropout\n",
    "a = ResNetParams(\n",
    "    num_blocks=[8, 8, 8, 2], num_filters=64, use_batchnorm=True, use_dropout=True\n",
    ")\n",
    "model = ResNet(**asdict(a))\n",
    "pytorch_total_params = sum(p.numel() for p in model.parameters())\n",
    "print(pytorch_total_params)\n",
    "models.append(model)\n",
    "model_params.append(asdict(a))\n",
    "\n",
    "a = ResNetParams(\n",
    "    num_blocks=[2, 2, 2, 4], num_filters=64, use_batchnorm=True, use_dropout=True\n",
    ")\n",
    "model = ResNet(**asdict(a))\n",
    "pytorch_total_params = sum(p.numel() for p in model.parameters())\n",
    "print(pytorch_total_params)\n",
    "models.append(model)\n",
    "model_params.append(asdict(a))\n",
    "\n",
    "a = ResNetParams(\n",
    "    num_blocks=[1, 1, 1, 1], num_filters=128, use_batchnorm=True, use_dropout=True\n",
    ")\n",
    "model = ResNet(**asdict(a))\n",
    "pytorch_total_params = sum(p.numel() for p in model.parameters())\n",
    "print(pytorch_total_params)\n",
    "models.append(model)\n",
    "model_params.append(asdict(a))"
   ]
  },
  {
   "cell_type": "code",
   "execution_count": 4,
   "metadata": {},
   "outputs": [
    {
     "name": "stdout",
     "output_type": "stream",
     "text": [
      "Files already downloaded and verified\n",
      "Files already downloaded and verified\n"
     ]
    },
    {
     "name": "stderr",
     "output_type": "stream",
     "text": [
      "/root/miniconda3/envs/MOO/lib/python3.11/site-packages/torch/autograd/graph.py:825: UserWarning: Attempting to run cuBLAS, but there was no current CUDA context! Attempting to set the primary context... (Triggered internally at ../aten/src/ATen/cuda/CublasHandlePool.cpp:135.)\n",
      "  return Variable._execution_engine.run_backward(  # Calls into the C++ engine to run the backward pass\n"
     ]
    },
    {
     "name": "stdout",
     "output_type": "stream",
     "text": [
      "116.57396225747173 0.2546000559085041 29.67973730822815\n",
      "29.67973730822815\n",
      "Files already downloaded and verified\n",
      "Files already downloaded and verified\n",
      "95.67533640326288 0.15859698188074692 15.173819593982648\n",
      "15.173819593982648\n",
      "Files already downloaded and verified\n",
      "Files already downloaded and verified\n",
      "87.75566655933 0.17640578328857973 15.48060709741003\n",
      "15.48060709741003\n",
      "Files already downloaded and verified\n",
      "Files already downloaded and verified\n",
      "233.0059312909928 40.8454623724009 9517.234999092476\n",
      "9517.234999092476\n",
      "Files already downloaded and verified\n",
      "Files already downloaded and verified\n",
      "191.14924400301484 14.556653833583324 2782.49337550304\n",
      "2782.49337550304\n",
      "Files already downloaded and verified\n",
      "Files already downloaded and verified\n",
      "175.33079242784422 4.949168589466114 867.7416506500898\n",
      "867.7416506500898\n",
      "Files already downloaded and verified\n",
      "Files already downloaded and verified\n",
      "233.01037258012033 60.63104499695632 14127.662384662834\n",
      "14127.662384662834\n",
      "Files already downloaded and verified\n",
      "Files already downloaded and verified\n",
      "191.1619770197599 18.66680195183656 3568.38276574939\n",
      "3568.38276574939\n",
      "Files already downloaded and verified\n",
      "Files already downloaded and verified\n",
      "175.3189141456905 6.629691925523728 1162.310389503272\n",
      "1162.310389503272\n"
     ]
    }
   ],
   "source": [
    "from multiobjective_opt.neural_net.utils import funcs\n",
    "from multiobjective_opt.neural_net.utils.dataset_prepare import CIFAR10Handler\n",
    "\n",
    "\n",
    "dataloader_cycled = True\n",
    "dataloader_iters = 100\n",
    "num_pulls = 100\n",
    "models_list = models\n",
    "coeffs_list = []\n",
    "for model in models:\n",
    "    coeffs_list.append(None)\n",
    "\n",
    "\n",
    "data_loader = CIFAR10Handler(dataloader_cycled, dataloader_iters, root=\"../data\")\n",
    "neural_ucb = funcs.UCB_nets(models_list, model_params, data_loader, coeffs_list)\n",
    "\n",
    "# ucb_res = neural_ucb.ucb_train_models(sum_epochs=num_pulls)"
   ]
  },
  {
   "cell_type": "code",
   "execution_count": 5,
   "metadata": {},
   "outputs": [
    {
     "ename": "NameError",
     "evalue": "name 'ucb_res' is not defined",
     "output_type": "error",
     "traceback": [
      "\u001b[0;31m---------------------------------------------------------------------------\u001b[0m",
      "\u001b[0;31mNameError\u001b[0m                                 Traceback (most recent call last)",
      "Cell \u001b[0;32mIn[5], line 4\u001b[0m\n\u001b[1;32m      1\u001b[0m \u001b[38;5;28;01mfrom\u001b[39;00m\u001b[38;5;250m \u001b[39m\u001b[38;5;21;01mtabulate\u001b[39;00m\u001b[38;5;250m \u001b[39m\u001b[38;5;28;01mimport\u001b[39;00m tabulate\n\u001b[1;32m      2\u001b[0m data \u001b[38;5;241m=\u001b[39m []\n\u001b[0;32m----> 4\u001b[0m \u001b[38;5;28;01mfor\u001b[39;00m model \u001b[38;5;129;01min\u001b[39;00m \u001b[43mucb_res\u001b[49m[\u001b[38;5;241m0\u001b[39m]:\n\u001b[1;32m      5\u001b[0m     st \u001b[38;5;241m=\u001b[39m model\u001b[38;5;241m.\u001b[39mstatistics\n\u001b[1;32m      6\u001b[0m     accuracy \u001b[38;5;241m=\u001b[39m st\u001b[38;5;241m.\u001b[39meval_results[\u001b[38;5;241m-\u001b[39m\u001b[38;5;241m1\u001b[39m][\u001b[38;5;124m\"\u001b[39m\u001b[38;5;124maccuracy\u001b[39m\u001b[38;5;124m\"\u001b[39m]\n",
      "\u001b[0;31mNameError\u001b[0m: name 'ucb_res' is not defined"
     ]
    }
   ],
   "source": [
    "from tabulate import tabulate\n",
    "\n",
    "\n",
    "data = []\n",
    "\n",
    "for model in ucb_res[0]:\n",
    "    st = model.statistics\n",
    "    accuracy = st.eval_results[-1][\"accuracy\"]\n",
    "    loss = st.eval_results[-1][\"loss\"]\n",
    "    confidence_interval = model.coeff / st.train_steps**0.5\n",
    "    row = [st.model_name, st.num_pulls, accuracy, loss, confidence_interval]\n",
    "    data.append(row)\n",
    "headers = [\n",
    "    \"Model name\",\n",
    "    \"model pulls\",\n",
    "    \"Model Accuracy\",\n",
    "    \"Model loss\",\n",
    "    \"Confidence interval\",\n",
    "]\n",
    "print(tabulate(data, headers=headers, floatfmt=\".3f\", tablefmt=\"heavy_outline\"))"
   ]
  },
  {
   "cell_type": "code",
   "execution_count": 6,
   "metadata": {},
   "outputs": [
    {
     "name": "stdout",
     "output_type": "stream",
     "text": [
      "21.20087001932637\n",
      "14.458671496000386\n",
      "15.413680719532742\n",
      "9623.514999396855\n",
      "3004.5635911669156\n",
      "917.5321898103019\n",
      "13927.537592967286\n",
      "3594.5784040607928\n",
      "1145.6596388311993\n"
     ]
    }
   ],
   "source": [
    "for i in range(len(neural_ucb.model_arms)):\n",
    "    print(neural_ucb.model_arms[i].coeff)"
   ]
  }
 ],
 "metadata": {
  "kernelspec": {
   "display_name": "MOO",
   "language": "python",
   "name": "python3"
  },
  "language_info": {
   "codemirror_mode": {
    "name": "ipython",
    "version": 3
   },
   "file_extension": ".py",
   "mimetype": "text/x-python",
   "name": "python",
   "nbconvert_exporter": "python",
   "pygments_lexer": "ipython3",
   "version": "3.11.11"
  }
 },
 "nbformat": 4,
 "nbformat_minor": 2
}
